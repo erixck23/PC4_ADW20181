{
 "cells": [
  {
   "cell_type": "code",
   "execution_count": 1,
   "metadata": {},
   "outputs": [],
   "source": [
    "#Importamos librerias\n",
    "from gensim.models import word2vec\n",
    "import numpy as np\n",
    "import gensim"
   ]
  },
  {
   "cell_type": "code",
   "execution_count": 2,
   "metadata": {},
   "outputs": [],
   "source": [
    "archivo = open('comentarios_atencion_cliente sin_etiquetas.csv','r').readlines()"
   ]
  },
  {
   "cell_type": "code",
   "execution_count": 19,
   "metadata": {},
   "outputs": [],
   "source": [
    "import string\n",
    "import nltk\n",
    "from nltk.corpus import stopwords\n",
    "from nltk.tokenize import word_tokenize"
   ]
  },
  {
   "cell_type": "code",
   "execution_count": 22,
   "metadata": {},
   "outputs": [],
   "source": [
    "stop_words=set(stopwords.words(\"spanish\"))\n",
    "def limpiezaTotal(arch):\n",
    "    arch1=\" \".join(arch)\n",
    "    arch2=arch1.replace(\";\",\"\")\n",
    "    arch3=arch2.replace(\"\\n\",\"\")\n",
    "    arch4=arch3.strip(\" \")\n",
    "    arch5=arch4.lower()\n",
    "    arch6=word_tokenize(arch5)\n",
    "    arch7=filter(lambda x: x not in stop_words, arch6) #Quitamos Stopwords\n",
    "    a = list(arch7)#Convertimos a lista\n",
    "    return(a)"
   ]
  },
  {
   "cell_type": "code",
   "execution_count": 25,
   "metadata": {},
   "outputs": [],
   "source": [
    "archivo_limpio = limpiezaTotal(archivo)"
   ]
  },
  {
   "cell_type": "code",
   "execution_count": 26,
   "metadata": {},
   "outputs": [
    {
     "data": {
      "text/plain": [
       "['datos',\n",
       " 'totalmente',\n",
       " 'satisfecho',\n",
       " 'x',\n",
       " 'q',\n",
       " 'resolvieron',\n",
       " 'consulta',\n",
       " 'x',\n",
       " 'q',\n",
       " 'atencion',\n",
       " 'buena',\n",
       " 'dudas',\n",
       " 'respondidas',\n",
       " 'atencion',\n",
       " 'rapida',\n",
       " 'clara',\n",
       " 'atendieron',\n",
       " 'bien',\n",
       " 'rapido',\n",
       " 'atencion',\n",
       " 'atendieron',\n",
       " 'amablemente',\n",
       " 'buena',\n",
       " 'actitud',\n",
       " 'plataforma',\n",
       " 'cajero',\n",
       " 'atendieron',\n",
       " 'bien',\n",
       " 'mucha',\n",
       " 'atencion',\n",
       " 'atencion',\n",
       " 'señoritas',\n",
       " 'entrada',\n",
       " 'buena',\n",
       " 'momento',\n",
       " 'supieron',\n",
       " 'guiarme',\n",
       " 'varios',\n",
       " 'cajerosas',\n",
       " 'agencia',\n",
       " 'relativamente',\n",
       " 'grande',\n",
       " 'buena',\n",
       " 'atencion',\n",
       " 'atencion',\n",
       " 'rapida',\n",
       " 'toma',\n",
       " 'tiempo',\n",
       " 'atencion',\n",
       " 'sido',\n",
       " 'excelente',\n",
       " 'buena',\n",
       " 'atencion',\n",
       " 'caja',\n",
       " 'atencion',\n",
       " 'rapidez',\n",
       " 'atencion',\n",
       " 'rapida',\n",
       " 'precisa',\n",
       " 'q',\n",
       " 'personal',\n",
       " 'eficiente',\n",
       " 'hacen',\n",
       " 'avanzar',\n",
       " 'cola',\n",
       " 'rapido',\n",
       " 'atencion',\n",
       " 'bastante',\n",
       " 'cordial',\n",
       " 'trabajadora',\n",
       " 'amable',\n",
       " 'realize',\n",
       " 'varias',\n",
       " 'consultas',\n",
       " 'verdad',\n",
       " 'gusto',\n",
       " 'recibi',\n",
       " 'atencion',\n",
       " 'amable',\n",
       " 'ingrese',\n",
       " 'agencia',\n",
       " 'derivaron',\n",
       " 'persona',\n",
       " 'indicada',\n",
       " 'atienda',\n",
       " 'solicitud',\n",
       " 'prontitud',\n",
       " 'resolvieron',\n",
       " 'dudas',\n",
       " 'dieron',\n",
       " 'buenas',\n",
       " 'opciones',\n",
       " 'super',\n",
       " 'rapido',\n",
       " 'atencion',\n",
       " 'rapida',\n",
       " 'eficiente',\n",
       " 'amabilidad',\n",
       " 'ocasion',\n",
       " 'atencion',\n",
       " 'rapida',\n",
       " 'parte',\n",
       " 'joven',\n",
       " 'señorita',\n",
       " 'brindaron',\n",
       " 'buena',\n",
       " 'atencion',\n",
       " 'buen',\n",
       " 'trato',\n",
       " 'buena',\n",
       " 'calidad',\n",
       " 'rapidez',\n",
       " 'atencion',\n",
       " 'bien',\n",
       " 'recibido',\n",
       " 'primera',\n",
       " 'vez',\n",
       " 'acerco',\n",
       " 'agencia',\n",
       " 'tal',\n",
       " 'necesito',\n",
       " 'acercarme',\n",
       " 'oportunidades',\n",
       " 'poder',\n",
       " 'dar',\n",
       " 'opinion',\n",
       " 'mas',\n",
       " 'certera',\n",
       " 'excelente',\n",
       " 'atencion',\n",
       " 'atencion',\n",
       " 'rapida',\n",
       " 'conforme',\n",
       " 'atencion',\n",
       " 'amabilidad',\n",
       " 'paciencia',\n",
       " 'explicar',\n",
       " 'caso',\n",
       " 'persona',\n",
       " 'apoyo',\n",
       " 'momento',\n",
       " 'solucionar',\n",
       " 'problema',\n",
       " 'atencion',\n",
       " 'mas',\n",
       " 'rapida',\n",
       " 'buena',\n",
       " 'guia',\n",
       " 'atencion',\n",
       " 'orden',\n",
       " 'rapidez',\n",
       " 'atencion',\n",
       " 'trato',\n",
       " 'amable',\n",
       " 'cordial',\n",
       " 'corresponde',\n",
       " 'estan',\n",
       " 'cara',\n",
       " 'publico',\n",
       " 'diligencia',\n",
       " 'efectuo',\n",
       " 'satisfactoriamente',\n",
       " 'servicio',\n",
       " 'amabilidad',\n",
       " 'atencion',\n",
       " 'habia',\n",
       " 'cola',\n",
       " 'atencion',\n",
       " 'rapida',\n",
       " 'bien',\n",
       " 'seguro',\n",
       " 'sinceros',\n",
       " 'asesoria',\n",
       " 'personas',\n",
       " 'encargas',\n",
       " 'pude',\n",
       " 'solucionar',\n",
       " 'inconvenientes',\n",
       " 'presentaronpor',\n",
       " 'quedo',\n",
       " 'agradecido',\n",
       " 'buena',\n",
       " 'grata',\n",
       " 'efectiva',\n",
       " 'atencion',\n",
       " 'atencion',\n",
       " 'fluida',\n",
       " 'rapida',\n",
       " 'atencion',\n",
       " 'brindada',\n",
       " 'personal',\n",
       " 'atendio',\n",
       " 'amable',\n",
       " 'cordial',\n",
       " 'atencion',\n",
       " 'rapida',\n",
       " 'colaborador',\n",
       " 'amable',\n",
       " 'atencion',\n",
       " 'super',\n",
       " 'buena',\n",
       " 'rapida',\n",
       " 'buena',\n",
       " 'rapida',\n",
       " 'atencion',\n",
       " 'atencion',\n",
       " 'rapida',\n",
       " 'persona',\n",
       " 'atendio',\n",
       " 'bastante',\n",
       " 'amable',\n",
       " 'deberian',\n",
       " 'tener',\n",
       " 'mas',\n",
       " 'personal',\n",
       " 'atencion',\n",
       " 'plataforma',\n",
       " 'atencion',\n",
       " 'rapida',\n",
       " 'si',\n",
       " 'atencion',\n",
       " 'ràpida',\n",
       " 'trato',\n",
       " 'amable',\n",
       " 'eficaz',\n",
       " 'persona',\n",
       " 'atendio',\n",
       " 'asesoria',\n",
       " 'especifica',\n",
       " 'rapida',\n",
       " 'excelente',\n",
       " 'atencion',\n",
       " 'atendieron',\n",
       " 'bien',\n",
       " 'señorita',\n",
       " 'atendio',\n",
       " 'amable',\n",
       " 'ayudo',\n",
       " 'problema',\n",
       " 'ocurrio',\n",
       " 'atendieron',\n",
       " 'prontitud',\n",
       " 'generaron',\n",
       " 'colas',\n",
       " 'innecesarias',\n",
       " 'atendieron',\n",
       " 'manera',\n",
       " 'correcta',\n",
       " 'atencion',\n",
       " 'agil',\n",
       " 'atendieron',\n",
       " 'rapido',\n",
       " 'amables',\n",
       " 'eficientes',\n",
       " 'explicaron',\n",
       " 'todas',\n",
       " 'dudas',\n",
       " 'sabado',\n",
       " 'am',\n",
       " 'aprox',\n",
       " 'habia',\n",
       " 'poca',\n",
       " 'gente',\n",
       " 'atendido',\n",
       " 'rapidamente',\n",
       " 'conclui',\n",
       " 'pude',\n",
       " 'continuar',\n",
       " 'actividades',\n",
       " 'atendieron',\n",
       " 'requerimiento',\n",
       " 'atencion',\n",
       " 'rapida',\n",
       " 'amable',\n",
       " 'realizada',\n",
       " 'personal',\n",
       " 'rapidez',\n",
       " 'calidez',\n",
       " 'personal',\n",
       " 'atendieron',\n",
       " 'amablemente',\n",
       " 'despejaron',\n",
       " 'dudas',\n",
       " 'atencion',\n",
       " 'rapida',\n",
       " 'servicio',\n",
       " 'brindo',\n",
       " 'rapido',\n",
       " 'eficiente',\n",
       " 'primera',\n",
       " 'vez',\n",
       " 'visite',\n",
       " 'ag',\n",
       " 'camino',\n",
       " 'ahi',\n",
       " 'atencion',\n",
       " 'rapida',\n",
       " 'atencion',\n",
       " 'rapida',\n",
       " 'amabilidad',\n",
       " 'apertura',\n",
       " 'primera',\n",
       " 'cuenta',\n",
       " 'ahorros',\n",
       " 'rapida',\n",
       " 'segura',\n",
       " 'atendieron',\n",
       " 'bien',\n",
       " 'atentos',\n",
       " 'espere',\n",
       " 'demaciado',\n",
       " 'tiempo',\n",
       " 'ser',\n",
       " 'atendida',\n",
       " 'atencion',\n",
       " 'dieron',\n",
       " 'unica',\n",
       " 'felicito',\n",
       " 'srta',\n",
       " 'karla',\n",
       " 'ser',\n",
       " 'tan',\n",
       " 'amable',\n",
       " 'personas',\n",
       " 'deberian',\n",
       " 'puestos',\n",
       " 'trato',\n",
       " 'amable',\n",
       " 'colas',\n",
       " 'calidad',\n",
       " 'atencion',\n",
       " 'servicio',\n",
       " 'joven',\n",
       " 'amable',\n",
       " 'atendio',\n",
       " 'bien',\n",
       " 'cordial',\n",
       " 'eficiencia',\n",
       " 'momento',\n",
       " 'atendieronpor',\n",
       " 'ayudarme',\n",
       " 'dudas',\n",
       " 'palabras',\n",
       " 'tan',\n",
       " 'rebuscadas',\n",
       " 'buena',\n",
       " 'rapida',\n",
       " 'atencion',\n",
       " 'debido',\n",
       " 'informacion',\n",
       " 'cuenta',\n",
       " 'ahorro',\n",
       " 'aperturando',\n",
       " 'completo',\n",
       " 'precisa',\n",
       " 'criterio',\n",
       " 'clara',\n",
       " 'necesitaba',\n",
       " 'saber',\n",
       " 'aparte',\n",
       " 'manera',\n",
       " 'explicarmelo',\n",
       " 'manera',\n",
       " 'correcta',\n",
       " 'respetuosa',\n",
       " 'atendido',\n",
       " 'inmediatamente',\n",
       " 'ventanilla',\n",
       " 'preferente',\n",
       " 'buena',\n",
       " 'atencion',\n",
       " 'atendieron',\n",
       " 'cortesmentey',\n",
       " 'atentos',\n",
       " 'atencion',\n",
       " 'rapida',\n",
       " 'amable',\n",
       " 'amable',\n",
       " 'rapida',\n",
       " 'atencion',\n",
       " 'excelente',\n",
       " 'atencion',\n",
       " 'trato',\n",
       " 'cordial',\n",
       " 'resolvi',\n",
       " 'duduas',\n",
       " 'buena',\n",
       " 'atencion',\n",
       " 'antendieron',\n",
       " 'rapido',\n",
       " 'buena',\n",
       " 'actitud',\n",
       " 'funcionarios',\n",
       " 'atendieron',\n",
       " 'pude',\n",
       " 'efectuar',\n",
       " 'operaciones',\n",
       " 'realizar',\n",
       " 'atencion',\n",
       " 'buena',\n",
       " 'guia',\n",
       " 'agencia',\n",
       " 'amable',\n",
       " 'habia',\n",
       " 'cola',\n",
       " 'atendieron',\n",
       " 'rapidamente',\n",
       " 'todas',\n",
       " 'personas',\n",
       " 'trabajan',\n",
       " 'agencia',\n",
       " 'empezando',\n",
       " 'persona',\n",
       " 'seguridad',\n",
       " 'dos',\n",
       " 'jovenes',\n",
       " 'atienden',\n",
       " 'publico',\n",
       " 'entrada',\n",
       " 'personas',\n",
       " 'atienden',\n",
       " 'plataforma',\n",
       " 'ventanillas',\n",
       " 'pagos',\n",
       " 'amables',\n",
       " 'absuelven',\n",
       " 'cualquier',\n",
       " 'duda',\n",
       " 'suficiente',\n",
       " 'decir',\n",
       " 'satisfecho',\n",
       " 'pasaba',\n",
       " 'sigan',\n",
       " 'asi',\n",
       " 'mostrando',\n",
       " 'buena',\n",
       " 'imagen',\n",
       " 'q',\n",
       " 'super',\n",
       " 'rapida',\n",
       " 'atencion',\n",
       " 'ningun',\n",
       " 'inconveniente',\n",
       " 'atienden',\n",
       " 'bien',\n",
       " 'atencion',\n",
       " 'excelente',\n",
       " 'ventanilla',\n",
       " 'antendida',\n",
       " 'culminar',\n",
       " 'solicitud',\n",
       " 'bien',\n",
       " 'atencion',\n",
       " 'personal',\n",
       " 'amable',\n",
       " 'atendieron',\n",
       " 'bien',\n",
       " 'tramite',\n",
       " 'plataforma',\n",
       " 'cordiales',\n",
       " 'trato',\n",
       " 'atencion',\n",
       " 'servicios',\n",
       " 'brindados',\n",
       " 'atencion',\n",
       " 'inmediata',\n",
       " 'correcta',\n",
       " 'colaboradores',\n",
       " 'agencia',\n",
       " 'amables',\n",
       " 'absuelven',\n",
       " 'todas',\n",
       " 'dudas',\n",
       " 'asesoran',\n",
       " 'bien',\n",
       " 'gusto',\n",
       " 'trabajo',\n",
       " 'mayor',\n",
       " 'movimiento',\n",
       " 'atencion',\n",
       " 'eficiente',\n",
       " 'realizaron',\n",
       " 'operacion',\n",
       " 'atencion',\n",
       " 'inmediato',\n",
       " 'mas',\n",
       " 'aun',\n",
       " 'acompañado',\n",
       " 'hija',\n",
       " 'discapacitada',\n",
       " 'resolvieron',\n",
       " 'dudas',\n",
       " 'tema',\n",
       " 'capacidad',\n",
       " 'endeudamiento',\n",
       " 'aprendi',\n",
       " 'debo',\n",
       " 'tener',\n",
       " 'muchas',\n",
       " 'tarjetas',\n",
       " 'credito',\n",
       " 'ello',\n",
       " 'baja',\n",
       " 'escore',\n",
       " 'crediticio',\n",
       " 'rapidez',\n",
       " 'atencion',\n",
       " 'brindada',\n",
       " 'atendieron',\n",
       " 'solicitud',\n",
       " 'manera',\n",
       " 'eficiente',\n",
       " 'rapida',\n",
       " 'buena',\n",
       " 'atencion',\n",
       " 'buena',\n",
       " 'atencion',\n",
       " 'rapido',\n",
       " 'eficiente',\n",
       " 'rapidez',\n",
       " 'atencion',\n",
       " 'quedo',\n",
       " 'atendieron',\n",
       " 'bien',\n",
       " 'atencion',\n",
       " 'amena',\n",
       " 'personal',\n",
       " 'rapidez',\n",
       " 'amabilidad',\n",
       " 'aun',\n",
       " 'sistema',\n",
       " 'atendieron',\n",
       " 'dia',\n",
       " 'siguiente',\n",
       " 'regularizaron',\n",
       " 'recibido',\n",
       " 'buena',\n",
       " 'atencion',\n",
       " 'agradable',\n",
       " 'rapida',\n",
       " 'atencion',\n",
       " 'atendieron',\n",
       " 'amablidad',\n",
       " 'srta',\n",
       " 'plataforma',\n",
       " 'tbn',\n",
       " 'ventanilla',\n",
       " 'rapida',\n",
       " 'atencion',\n",
       " 'amables',\n",
       " 'atencion',\n",
       " 'buena',\n",
       " 'tiempo',\n",
       " 'espera',\n",
       " 'corto',\n",
       " 'srta',\n",
       " 'q',\n",
       " 'atendio',\n",
       " 'amable',\n",
       " 'explico',\n",
       " 'paciencia',\n",
       " 'puntos',\n",
       " 'tarjeta',\n",
       " 'q',\n",
       " 'adquiri',\n",
       " 'atendido',\n",
       " 'bien',\n",
       " 'absolvieron',\n",
       " 'consultas',\n",
       " 'atencion',\n",
       " 'rapida',\n",
       " 'cordial',\n",
       " 'publico',\n",
       " 'atencion',\n",
       " 'rapida',\n",
       " 'servicio',\n",
       " 'mejorado',\n",
       " 'aunque',\n",
       " 'creo',\n",
       " 'puede',\n",
       " 'ser',\n",
       " 'mejor',\n",
       " 'asesor',\n",
       " 'redfor',\n",
       " 'atencion',\n",
       " 'exelente',\n",
       " 'señorita',\n",
       " 'encontraba',\n",
       " 'ingresar',\n",
       " 'amable',\n",
       " 'conmigo',\n",
       " 'atencion',\n",
       " 'rapida',\n",
       " 'buen',\n",
       " 'trato',\n",
       " 'debido',\n",
       " 'habia',\n",
       " 'gente',\n",
       " 'agencia',\n",
       " 'pude',\n",
       " 'realizar',\n",
       " 'tramites',\n",
       " 'rapidez',\n",
       " 'srta',\n",
       " 'atendio',\n",
       " 'cortes',\n",
       " 'educada',\n",
       " 'amable',\n",
       " 'primera',\n",
       " 'vez',\n",
       " 'pesar',\n",
       " 'habia',\n",
       " 'personas',\n",
       " 'atendiendo',\n",
       " 'ventanilla',\n",
       " 'solo',\n",
       " 'daban',\n",
       " 'paso',\n",
       " 'clientes',\n",
       " 'vip',\n",
       " 'bcp',\n",
       " 'ultima',\n",
       " 'vez',\n",
       " 'habia',\n",
       " 'nadie',\n",
       " 'buena',\n",
       " 'atencion',\n",
       " 'parte',\n",
       " 'señorita',\n",
       " 'sanchez',\n",
       " 'plataforma',\n",
       " 'acogieron',\n",
       " 'reclamo',\n",
       " 'deuda',\n",
       " 'julio',\n",
       " 'mas',\n",
       " 'soles',\n",
       " 'tarjeta',\n",
       " 'credito',\n",
       " 'visa',\n",
       " 'toda',\n",
       " 'vez',\n",
       " 'acredite',\n",
       " 'habia',\n",
       " 'cancelado',\n",
       " 'deuda',\n",
       " 'mayo',\n",
       " 'atendieron',\n",
       " 'rapido',\n",
       " 'solo',\n",
       " 'visita',\n",
       " 'coordinacion',\n",
       " 'requerimientos',\n",
       " 'encontrare',\n",
       " 'totalmente',\n",
       " 'satisfecho',\n",
       " 'concreticen',\n",
       " 'todas',\n",
       " 'personas',\n",
       " 'atendieron',\n",
       " 'hicieron',\n",
       " 'forma',\n",
       " 'proactiva',\n",
       " 'resolvieron',\n",
       " 'pedidos',\n",
       " 'buena',\n",
       " 'atencion',\n",
       " 'aunque',\n",
       " 'esperar',\n",
       " 'casi',\n",
       " 'min',\n",
       " 'atiendan',\n",
       " 'calidad',\n",
       " 'servicio',\n",
       " 'personal',\n",
       " 'dieron',\n",
       " 'bienvenida',\n",
       " 'atendieron',\n",
       " 'plataforma',\n",
       " 'tambien',\n",
       " 'recibi',\n",
       " 'buena',\n",
       " 'atencion',\n",
       " 'dieron',\n",
       " 'buena',\n",
       " 'atencion',\n",
       " 'plataforma',\n",
       " 'atencion',\n",
       " 'cordial',\n",
       " 'oportuna',\n",
       " 'eficiente',\n",
       " 'cumplio',\n",
       " 'cavalidad',\n",
       " 'hacer',\n",
       " 'atendido',\n",
       " 'mucha',\n",
       " 'amabilidad',\n",
       " 'plantearles',\n",
       " 'problema',\n",
       " 'ayudaron',\n",
       " 'inmediatamente',\n",
       " 'solucionaron',\n",
       " 'problema',\n",
       " 'atendio',\n",
       " 'amable',\n",
       " 'mucha',\n",
       " 'paciencia',\n",
       " 'pagos',\n",
       " 'hice',\n",
       " 'agrado',\n",
       " 'habia',\n",
       " 'mucha',\n",
       " 'gente',\n",
       " 'rapido',\n",
       " 'tendieron',\n",
       " 'calidad',\n",
       " 'amabilidad',\n",
       " 'rapidez',\n",
       " 'atencion',\n",
       " 'brindada',\n",
       " 'personal',\n",
       " 'banco',\n",
       " 'pase',\n",
       " 'rapido',\n",
       " 'atencion',\n",
       " 'eficiente',\n",
       " 'trato',\n",
       " 'buena',\n",
       " 'explicacion',\n",
       " 'explica',\n",
       " 'señorita',\n",
       " 'apoyaron',\n",
       " 'todas',\n",
       " 'dudas',\n",
       " 'orden',\n",
       " 'colas',\n",
       " 'trato',\n",
       " 'muu',\n",
       " 'bueno',\n",
       " 'amable',\n",
       " 'rapida',\n",
       " 'atencion',\n",
       " 'atendieron',\n",
       " 'prontitud',\n",
       " 'actitud',\n",
       " 'trabajadores',\n",
       " 'atendieron',\n",
       " 'brindaron',\n",
       " 'informacion',\n",
       " 'especifica',\n",
       " 'opciones',\n",
       " 'beneficiarian',\n",
       " 'mas',\n",
       " 'cuerdo',\n",
       " 'intereses',\n",
       " 'pueda',\n",
       " 'ganar',\n",
       " 'plazo',\n",
       " 'fijo',\n",
       " 'buena',\n",
       " 'atencion',\n",
       " 'trataron',\n",
       " 'bien',\n",
       " 'explicaron',\n",
       " 'cuantos',\n",
       " 'amis',\n",
       " 'dudas',\n",
       " 'q',\n",
       " 'nia',\n",
       " 'señorita',\n",
       " 'atendio',\n",
       " 'plataforma',\n",
       " 'amable',\n",
       " 'atenderme',\n",
       " 'respetuosa',\n",
       " 'tiempo',\n",
       " 'atencion',\n",
       " 'rapido',\n",
       " 'solucionaron',\n",
       " 'problema',\n",
       " 'ustedes',\n",
       " 'mismo',\n",
       " 'provocaron',\n",
       " 'decir',\n",
       " 'dieron',\n",
       " 'solucion',\n",
       " 'inmedata',\n",
       " 'pesar',\n",
       " 'tiempo',\n",
       " 'atencion',\n",
       " 'atendieron',\n",
       " 'manera',\n",
       " 'inmediata',\n",
       " 'pudieron',\n",
       " 'ayudarme',\n",
       " 'tramite',\n",
       " 'realice',\n",
       " 'resolvieron',\n",
       " 'problema',\n",
       " 'rapidamente',\n",
       " 'personal',\n",
       " 'atendio',\n",
       " 'amable',\n",
       " 'especifico',\n",
       " 'atento',\n",
       " 'hice',\n",
       " 'operaciones',\n",
       " 'debia',\n",
       " 'hacer',\n",
       " 'buena',\n",
       " 'atencion',\n",
       " 'sabe',\n",
       " 'dar',\n",
       " 'respuesta',\n",
       " 'consulta',\n",
       " 'realizada',\n",
       " 'soluciones',\n",
       " 'bueno',\n",
       " 'comunicaron',\n",
       " 'compra',\n",
       " 'deuda',\n",
       " 'salio',\n",
       " 'beneficiando',\n",
       " 'atendieron',\n",
       " 'solicitud',\n",
       " 'tres',\n",
       " 'dias',\n",
       " 'utiles',\n",
       " 'tenia',\n",
       " 'conocimiento',\n",
       " 'personas',\n",
       " 'demoraban',\n",
       " 'dar',\n",
       " 'respuesta',\n",
       " 'meses',\n",
       " 'años',\n",
       " 'habia',\n",
       " 'muchas',\n",
       " 'personas',\n",
       " 'cola',\n",
       " 'esperando',\n",
       " 'rapidez',\n",
       " 'atencion',\n",
       " 'seguridad',\n",
       " 'buena',\n",
       " 'atencion',\n",
       " 'brinda',\n",
       " 'informacion',\n",
       " 'correcta',\n",
       " 'cordialidad',\n",
       " 'personal',\n",
       " 'atencion',\n",
       " 'atenta',\n",
       " 'rapida',\n",
       " 'apoyo',\n",
       " 'brindado',\n",
       " 'suda',\n",
       " 'tenia',\n",
       " 'resolvieron',\n",
       " 'todas',\n",
       " 'dudas',\n",
       " 'atencion',\n",
       " 'prestada',\n",
       " 'cordial',\n",
       " 'satisfactoria',\n",
       " 'toda',\n",
       " 'duda',\n",
       " 'aclarada',\n",
       " 'espera',\n",
       " 'q',\n",
       " 'molesta',\n",
       " 'demoran',\n",
       " 'atender',\n",
       " 'publico',\n",
       " 'atencion',\n",
       " 'rapida',\n",
       " 'buen',\n",
       " 'trato',\n",
       " 'rapidez',\n",
       " 'servicio',\n",
       " 'atencion',\n",
       " 'buena',\n",
       " 'rapida',\n",
       " 'atencion',\n",
       " 'buenos',\n",
       " 'dias',\n",
       " 'satisfecha',\n",
       " 'atencion',\n",
       " 'personalizada',\n",
       " 'señorita',\n",
       " 'luz',\n",
       " 'mogollon',\n",
       " 'mucha',\n",
       " 'profesionalidad',\n",
       " 'atendio',\n",
       " 'ayudo',\n",
       " 'gestion',\n",
       " 'hize',\n",
       " 'xq',\n",
       " 'atencion',\n",
       " 'cordial',\n",
       " 'chica',\n",
       " 'q',\n",
       " 'm',\n",
       " 'atendio',\n",
       " 'rapida',\n",
       " 'atencion',\n",
       " 'rapida',\n",
       " 'atencion',\n",
       " 'rapida',\n",
       " 'preguntas',\n",
       " 'dudas',\n",
       " 'contestadas',\n",
       " 'solucionadas',\n",
       " 'varias',\n",
       " 'alternativas',\n",
       " 'escoger',\n",
       " 'bien',\n",
       " 'rapido',\n",
       " 'amable',\n",
       " 'habia',\n",
       " 'cola',\n",
       " 'bridaron',\n",
       " 'infirmacion',\n",
       " 'satisfactoria',\n",
       " 'atencion',\n",
       " 'buena',\n",
       " 'diria',\n",
       " 'excelente',\n",
       " 'gerente',\n",
       " 'escritorio',\n",
       " 'indico',\n",
       " 'amablemente',\n",
       " 'toca',\n",
       " 'laborar',\n",
       " 'sabado',\n",
       " 'oct',\n",
       " 'embargo',\n",
       " 'atendio',\n",
       " 'dio',\n",
       " 'solucion',\n",
       " 'problema',\n",
       " 'agradecido',\n",
       " 'señora',\n",
       " 'recuerdo',\n",
       " 'nombre',\n",
       " 'sino',\n",
       " 'gustoso',\n",
       " 'dariagracias',\n",
       " 'optimo',\n",
       " 'servicio',\n",
       " 'otorgado',\n",
       " 'banco',\n",
       " 'recibii',\n",
       " 'servicio',\n",
       " 'necesitaba',\n",
       " 'atencion',\n",
       " 'agil',\n",
       " 'oportuna',\n",
       " 'atendieron',\n",
       " 'amables',\n",
       " 'rapido',\n",
       " 'atencion',\n",
       " 'lenta',\n",
       " 'si',\n",
       " 'solucionan',\n",
       " 'ncesito',\n",
       " 'llegue',\n",
       " 'completar',\n",
       " 'tramites',\n",
       " 'tenia',\n",
       " 'hacer',\n",
       " 'atencion',\n",
       " 'esmerada',\n",
       " 'rapida',\n",
       " 'tiempo',\n",
       " 'atencion',\n",
       " 'optimo',\n",
       " 'siempre',\n",
       " 'atienden',\n",
       " 'rapidez',\n",
       " 'pierdo',\n",
       " 'tiempo',\n",
       " 'chica',\n",
       " 'puerta',\n",
       " 'ayudo',\n",
       " 'apertura',\n",
       " 'cuenta',\n",
       " 'ventanilla',\n",
       " 'tambien',\n",
       " 'atendieron',\n",
       " 'bien',\n",
       " 'personal',\n",
       " 'amable',\n",
       " 'ayudan',\n",
       " 'aclaran',\n",
       " 'dudas',\n",
       " 'pueda',\n",
       " 'tener',\n",
       " 'atencion',\n",
       " ...]"
      ]
     },
     "execution_count": 26,
     "metadata": {},
     "output_type": "execute_result"
    }
   ],
   "source": [
    "archivo_limpio"
   ]
  },
  {
   "cell_type": "code",
   "execution_count": 27,
   "metadata": {},
   "outputs": [],
   "source": [
    "#seguimos limpiando caracteres que son menores a 3 los quitamos\n",
    "c=[]\n",
    "for i in archivo_limpio:\n",
    "    if len(i)>=3:\n",
    "        c.append(i)\n",
    "b = \" \".join(c)"
   ]
  },
  {
   "cell_type": "code",
   "execution_count": 29,
   "metadata": {},
   "outputs": [],
   "source": [
    "#Cargamos las sentences de la base text8\n",
    "sentences = word2vec.Text8Corpus('text8')"
   ]
  },
  {
   "cell_type": "code",
   "execution_count": 30,
   "metadata": {},
   "outputs": [],
   "source": [
    "#Creamos el modelo\n",
    "model = word2vec.Word2Vec(sentences, size=200,min_count=2)"
   ]
  },
  {
   "cell_type": "code",
   "execution_count": 31,
   "metadata": {},
   "outputs": [],
   "source": [
    "#Guardamos el modelo\n",
    "model.save('text8_pc4.bin')"
   ]
  },
  {
   "cell_type": "code",
   "execution_count": 32,
   "metadata": {},
   "outputs": [],
   "source": [
    "#Guardamos el modelo en formato binario pues es mas rapida la entrada y es menos pesado\n",
    "model.wv.save_word2vec_format('text8_pc4.bin', binary=True)"
   ]
  },
  {
   "cell_type": "code",
   "execution_count": 33,
   "metadata": {},
   "outputs": [],
   "source": [
    "#Funcion que convierte String en Vector Caracteristico\n",
    "def getFV(document):#document es una cadena de palabras\n",
    "    \n",
    "    words=document.split()#lista de palabras separadas\n",
    "    s=np.zeros(200)\n",
    "    k=0#contador\n",
    "    for w in words:#para cada palabra que esta dentro de words\n",
    "        if w in model.wv.vocab:#si la palabra estsa la encuentra y la suma\n",
    "            s=s+model[w]\n",
    "            k=k+1\n",
    "    \n",
    "    return s/k#retorna el promedio el vector caracteristico del documento"
   ]
  },
  {
   "cell_type": "code",
   "execution_count": 34,
   "metadata": {},
   "outputs": [
    {
     "name": "stderr",
     "output_type": "stream",
     "text": [
      "/home/usuariolab/anaconda3/lib/python3.6/site-packages/ipykernel_launcher.py:9: DeprecationWarning: Call to deprecated `__getitem__` (Method will be removed in 4.0.0, use self.wv.__getitem__() instead).\n",
      "  if __name__ == '__main__':\n"
     ]
    },
    {
     "data": {
      "text/plain": [
       "array([ 0.02687746, -0.14310687,  0.2194616 ,  0.03318662, -0.08699326,\n",
       "        0.11879384, -0.04914158,  0.05520685, -0.01080077, -0.13402536,\n",
       "       -0.04461789,  0.20229517,  0.06354801, -0.0816044 , -0.16188481,\n",
       "        0.05457788, -0.07634487, -0.04131403,  0.14705984,  0.09474584,\n",
       "       -0.05731841, -0.1507958 ,  0.04866939, -0.01279104, -0.05056222,\n",
       "       -0.01177855, -0.09696959,  0.14183251, -0.08102704,  0.11404844,\n",
       "        0.03272374, -0.15475151, -0.07354481, -0.0242406 , -0.02886368,\n",
       "       -0.15292952,  0.11984092, -0.05674957, -0.15237536,  0.12182689,\n",
       "       -0.02253969,  0.12082352,  0.02345363,  0.00952102, -0.12744571,\n",
       "       -0.0688734 , -0.00806308, -0.16878384,  0.01069333, -0.02411944,\n",
       "       -0.01732946, -0.11910661, -0.00293784,  0.00942519,  0.10616849,\n",
       "        0.10301459,  0.08750895, -0.07297613, -0.0094143 ,  0.05602475,\n",
       "        0.05387119,  0.03332412,  0.03461587,  0.11716218,  0.04790013,\n",
       "       -0.04262284, -0.05443056, -0.19477426,  0.03740071, -0.00669474,\n",
       "        0.11075396,  0.1845748 , -0.02434043,  0.00219309, -0.09834979,\n",
       "       -0.10393219, -0.07568423, -0.09878383, -0.03870896, -0.02022865,\n",
       "        0.04770493,  0.07993086,  0.02005272, -0.09585296, -0.0155326 ,\n",
       "       -0.03386506, -0.07632433,  0.11915726, -0.03953889,  0.12791865,\n",
       "        0.06744786,  0.06113735,  0.03619173,  0.03404204,  0.05035028,\n",
       "        0.14156092, -0.04527539,  0.03557004,  0.01918946, -0.00629142,\n",
       "        0.10602738, -0.15633409,  0.00414956,  0.00688531,  0.00837752,\n",
       "       -0.13828399,  0.08444592, -0.07427121,  0.00447386,  0.0765174 ,\n",
       "        0.05280503, -0.0311791 ,  0.12951556,  0.11284587,  0.08898389,\n",
       "        0.03348993,  0.11760538, -0.01340335,  0.0827808 , -0.08710063,\n",
       "        0.11230839,  0.07491432,  0.00393151,  0.08154287, -0.05053509,\n",
       "       -0.06606722,  0.08898544,  0.09257015, -0.04712512, -0.02812091,\n",
       "        0.02405663,  0.16694288, -0.12697358,  0.10270977, -0.18685182,\n",
       "       -0.14431464, -0.01228526, -0.00334909, -0.14983709, -0.04972903,\n",
       "       -0.03885407, -0.03068497, -0.00318733, -0.00172986,  0.01118119,\n",
       "        0.01377234,  0.13268374, -0.05675461,  0.12544856, -0.08583825,\n",
       "        0.03127601,  0.20540563, -0.02710001, -0.12137214,  0.04562255,\n",
       "       -0.03255463,  0.08484424, -0.03268621,  0.02923681, -0.14674896,\n",
       "       -0.15379879, -0.00290337,  0.12842621, -0.02452244,  0.05692189,\n",
       "        0.09115551, -0.04721036,  0.00176627,  0.0905166 , -0.09411998,\n",
       "        0.00124616, -0.11082875,  0.18527513, -0.05874198, -0.09034389,\n",
       "       -0.18960651,  0.00724362,  0.06936297,  0.03658148,  0.102145  ,\n",
       "       -0.02524213,  0.08687322, -0.1368549 ,  0.14458313, -0.0954625 ,\n",
       "        0.12646494, -0.00952444, -0.07104549, -0.05151417, -0.09797714,\n",
       "        0.08795469,  0.0427325 , -0.27480215,  0.06341708, -0.03929691,\n",
       "        0.11608943, -0.0545119 , -0.03300738, -0.03736064, -0.04795979])"
      ]
     },
     "execution_count": 34,
     "metadata": {},
     "output_type": "execute_result"
    }
   ],
   "source": [
    "#Probamos la funcion getFV con la lista de palabras\n",
    "getFV(b)"
   ]
  },
  {
   "cell_type": "code",
   "execution_count": null,
   "metadata": {},
   "outputs": [],
   "source": [
    "#archivo_final = open(\"data.txt\", \"w\") "
   ]
  },
  {
   "cell_type": "code",
   "execution_count": 35,
   "metadata": {},
   "outputs": [],
   "source": [
    "#Creamos un archivo que almacenará la lista de palabras limpias del conjunto de comentarios\n",
    "with open(\"data1.txt\", 'w', encoding ='utf8') as f:  \n",
    "            f.write(b)"
   ]
  },
  {
   "cell_type": "code",
   "execution_count": 36,
   "metadata": {},
   "outputs": [],
   "source": [
    "#Probamos que el archivo fue guardado correctamente\n",
    "archivoprueba = open(\"data1.txt\", 'r').readlines()"
   ]
  },
  {
   "cell_type": "code",
   "execution_count": 37,
   "metadata": {},
   "outputs": [],
   "source": [
    "#Creamos un sentences el cual será usado en el modelo para reentrenarlo\n",
    "sentences2 = word2vec.Text8Corpus(\"data1.txt\")"
   ]
  },
  {
   "cell_type": "code",
   "execution_count": 38,
   "metadata": {},
   "outputs": [
    {
     "data": {
      "text/plain": [
       "<gensim.models.word2vec.Text8Corpus at 0x7f4f025c70f0>"
      ]
     },
     "execution_count": 38,
     "metadata": {},
     "output_type": "execute_result"
    }
   ],
   "source": [
    "sentences2"
   ]
  },
  {
   "cell_type": "code",
   "execution_count": 39,
   "metadata": {},
   "outputs": [],
   "source": [
    "#Anadimos el Sentences al modelo\n",
    "model.build_vocab(sentences2,update=True)"
   ]
  },
  {
   "cell_type": "code",
   "execution_count": 40,
   "metadata": {},
   "outputs": [
    {
     "name": "stderr",
     "output_type": "stream",
     "text": [
      "/home/usuariolab/anaconda3/lib/python3.6/site-packages/ipykernel_launcher.py:2: DeprecationWarning: Call to deprecated `iter` (Attribute will be removed in 4.0.0, use self.epochs instead).\n",
      "  \n"
     ]
    },
    {
     "data": {
      "text/plain": [
       "(435720, 557590)"
      ]
     },
     "execution_count": 40,
     "metadata": {},
     "output_type": "execute_result"
    }
   ],
   "source": [
    "#Entrenamos el modelo con el nuevo sentences, pues contiene datos nuevos en ESP para poder clasificar\n",
    "model.train(sentences2, total_examples=model.corpus_count, epochs=model.iter) #reentrenamos el modelo con las palabras añadidas"
   ]
  },
  {
   "cell_type": "code",
   "execution_count": 41,
   "metadata": {},
   "outputs": [
    {
     "name": "stderr",
     "output_type": "stream",
     "text": [
      "/home/usuariolab/anaconda3/lib/python3.6/site-packages/ipykernel_launcher.py:2: DeprecationWarning: Call to deprecated `most_similar` (Method will be removed in 4.0.0, use self.wv.most_similar() instead).\n",
      "  \n"
     ]
    },
    {
     "data": {
      "text/plain": [
       "[('cajeros', 0.9805223345756531),\n",
       " ('fila', 0.9787325859069824),\n",
       " ('informacion', 0.9776021242141724),\n",
       " ('problema', 0.9774182438850403),\n",
       " ('buen', 0.9762576818466187),\n",
       " ('siempre', 0.9757086038589478),\n",
       " ('cliente', 0.9755666255950928),\n",
       " ('sistema', 0.975425124168396),\n",
       " ('tiempo', 0.9752037525177002),\n",
       " ('dieron', 0.9751696586608887)]"
      ]
     },
     "execution_count": 41,
     "metadata": {},
     "output_type": "execute_result"
    }
   ],
   "source": [
    "#Verificamos que el modelo esta funcionando correctamente. Esto se hace con lo siguiente:\n",
    "model.most_similar(['servicio'])"
   ]
  },
  {
   "cell_type": "code",
   "execution_count": 42,
   "metadata": {},
   "outputs": [],
   "source": [
    "#Creamos una lista que contendra lista de comentarios limpios\n",
    "m = []\n",
    "for i in archivo:\n",
    "    a = str(i)\n",
    "    b=a.replace(\";\",\"\")\n",
    "    c = b.replace(\"\\n\",\"\")\n",
    "    d = c.strip(' ')\n",
    "    e = d.replace(\"  \", \" \")\n",
    "    f = e.lower()\n",
    "    m.append(f)"
   ]
  },
  {
   "cell_type": "code",
   "execution_count": 43,
   "metadata": {},
   "outputs": [
    {
     "name": "stderr",
     "output_type": "stream",
     "text": [
      "/home/usuariolab/anaconda3/lib/python3.6/site-packages/ipykernel_launcher.py:9: DeprecationWarning: Call to deprecated `__getitem__` (Method will be removed in 4.0.0, use self.wv.__getitem__() instead).\n",
      "  if __name__ == '__main__':\n",
      "/home/usuariolab/anaconda3/lib/python3.6/site-packages/ipykernel_launcher.py:12: RuntimeWarning: invalid value encountered in true_divide\n",
      "  if sys.path[0] == '':\n"
     ]
    }
   ],
   "source": [
    "#Creamos una lista que contendra los arrays caracteristicos usando la funcion getFV\n",
    "X=[]\n",
    "for w in m:\n",
    "    a=getFV(w)\n",
    "    X.append(a)"
   ]
  },
  {
   "cell_type": "code",
   "execution_count": 44,
   "metadata": {},
   "outputs": [
    {
     "data": {
      "text/plain": [
       "13291"
      ]
     },
     "execution_count": 44,
     "metadata": {},
     "output_type": "execute_result"
    }
   ],
   "source": [
    "len(X)#Verificamos el tamaño de la lista de vectores caracteristicos"
   ]
  },
  {
   "cell_type": "code",
   "execution_count": null,
   "metadata": {},
   "outputs": [],
   "source": [
    "#Podemos usar la siguiente operacion para poder obtener la lista limpia sin NaN\n",
    "#Si cambiamos if not por if podemos obtener solo la lista de NaN\n",
    "#No se uso esta operacion pues para terminos de analisis de Machine Learnin era necesario mantener las listas con\n",
    "#Archivos NaN\n",
    "#import math\n",
    "#res2 = [t for t in X if not any(isinstance(n, float) and math.isnan(n) for n in t)]"
   ]
  },
  {
   "cell_type": "code",
   "execution_count": null,
   "metadata": {},
   "outputs": [],
   "source": [
    "#len(res2)"
   ]
  },
  {
   "cell_type": "code",
   "execution_count": 45,
   "metadata": {},
   "outputs": [],
   "source": [
    "#Limpiamos la lista de vectores caracteristicos pues hay datos que al no encontralos los vuelve vectores NaN\n",
    "#Esto lo hacemos con\n",
    "b = np.where(np.isnan(X), 0, X)\n",
    "#aqui encuentra los nan y los reemplaza por ceros. Cuestion que no sesga mucho pues solo hemos identificado que son 20"
   ]
  },
  {
   "cell_type": "code",
   "execution_count": 46,
   "metadata": {},
   "outputs": [
    {
     "data": {
      "text/plain": [
       "13291"
      ]
     },
     "execution_count": 46,
     "metadata": {},
     "output_type": "execute_result"
    }
   ],
   "source": [
    "#Verificamos que la nueva lista limpia tiene el mismo tamaño\n",
    "len(b)"
   ]
  },
  {
   "cell_type": "code",
   "execution_count": 47,
   "metadata": {},
   "outputs": [
    {
     "data": {
      "text/plain": [
       "13291"
      ]
     },
     "execution_count": 47,
     "metadata": {},
     "output_type": "execute_result"
    }
   ],
   "source": [
    "len(X)#Verificamos nuevamente el tamaño de las listas"
   ]
  },
  {
   "cell_type": "code",
   "execution_count": 48,
   "metadata": {},
   "outputs": [],
   "source": [
    "#Importamos la libreria de KMeans \n",
    "from sklearn.cluster import KMeans"
   ]
  },
  {
   "cell_type": "code",
   "execution_count": 49,
   "metadata": {},
   "outputs": [],
   "source": [
    "#Hacemos KMeans de 2 K para b\n",
    "est = KMeans(2)\n",
    "est.fit (b)\n",
    "y_mean=est.predict(b)"
   ]
  },
  {
   "cell_type": "code",
   "execution_count": 50,
   "metadata": {},
   "outputs": [
    {
     "data": {
      "text/plain": [
       "array([1, 1, 0, ..., 0, 0, 0], dtype=int32)"
      ]
     },
     "execution_count": 50,
     "metadata": {},
     "output_type": "execute_result"
    }
   ],
   "source": [
    "y_mean#es el modelo"
   ]
  },
  {
   "cell_type": "code",
   "execution_count": 51,
   "metadata": {},
   "outputs": [],
   "source": [
    "#Abrimos el archivo de positivos para verificar el Accuracy\n",
    "archivoPOSI = open('Positive.csv','r').readlines()"
   ]
  },
  {
   "cell_type": "code",
   "execution_count": 52,
   "metadata": {},
   "outputs": [],
   "source": [
    "#Creamos una lista de los comentarios positivos\n",
    "POSI = []\n",
    "for i in archivoPOSI:\n",
    "    g = str(i)\n",
    "    h = g.replace(\";\",\"\")\n",
    "    i = h.replace(\"\\n\",\"\")\n",
    "    j = i.strip(' ')\n",
    "    k = j.replace(\"  \", \" \")\n",
    "    l = k.lower()\n",
    "    POSI.append(l)"
   ]
  },
  {
   "cell_type": "code",
   "execution_count": 53,
   "metadata": {},
   "outputs": [
    {
     "name": "stderr",
     "output_type": "stream",
     "text": [
      "/home/usuariolab/anaconda3/lib/python3.6/site-packages/ipykernel_launcher.py:9: DeprecationWarning: Call to deprecated `__getitem__` (Method will be removed in 4.0.0, use self.wv.__getitem__() instead).\n",
      "  if __name__ == '__main__':\n",
      "/home/usuariolab/anaconda3/lib/python3.6/site-packages/ipykernel_launcher.py:12: RuntimeWarning: invalid value encountered in true_divide\n",
      "  if sys.path[0] == '':\n"
     ]
    }
   ],
   "source": [
    "#Usando getFV appendamos los vectores caracteristicos en una lista P de positivos\n",
    "P=[]\n",
    "t=0\n",
    "for w in POSI:\n",
    "    a=getFV(w)\n",
    "    P.append(a)"
   ]
  },
  {
   "cell_type": "code",
   "execution_count": 54,
   "metadata": {},
   "outputs": [],
   "source": [
    "#Limpiamos la lista y convertimos los NaN en Ceros\n",
    "p_ = np.where(np.isnan(P), 0, P)"
   ]
  },
  {
   "cell_type": "code",
   "execution_count": 55,
   "metadata": {},
   "outputs": [],
   "source": [
    "#Hacemos KMeans para la lista p_ la cual contiene los vectores caracteristicos de los comentarios positivos\n",
    "estp = KMeans(2)\n",
    "estp.fit (p_)\n",
    "y_meanp=estp.predict(p_)"
   ]
  },
  {
   "cell_type": "code",
   "execution_count": 56,
   "metadata": {},
   "outputs": [
    {
     "data": {
      "text/plain": [
       "array([0, 1, 1, 0, 1, 0, 0, 1, 0, 0, 1, 0, 1, 0, 0, 0, 1, 0, 0, 1, 1, 0,\n",
       "       1, 1, 0, 0, 0, 1, 1, 1, 0, 1, 1, 1, 0, 0, 0, 0, 0, 1, 0, 0, 1, 1,\n",
       "       0, 0, 1, 0, 1], dtype=int32)"
      ]
     },
     "execution_count": 56,
     "metadata": {},
     "output_type": "execute_result"
    }
   ],
   "source": [
    "y_meanp # POSITIVOS K MEANS"
   ]
  },
  {
   "cell_type": "code",
   "execution_count": 57,
   "metadata": {},
   "outputs": [
    {
     "name": "stdout",
     "output_type": "stream",
     "text": [
      "0.4489795918367347\n"
     ]
    }
   ],
   "source": [
    "#Hallamos el Accuracy de los positivos usando el algoritmo KMeans\n",
    "upk=0\n",
    "for i in y_meanp:\n",
    "    if i == 1:\n",
    "        upk=upk+1\n",
    "print (upk/(len(y_meanp)))"
   ]
  },
  {
   "cell_type": "code",
   "execution_count": 58,
   "metadata": {},
   "outputs": [],
   "source": [
    "#Abrimos el archivo de negativos para verificar el Accuracy\n",
    "archivoNEGA = open('Negative.csv','r').readlines()"
   ]
  },
  {
   "cell_type": "code",
   "execution_count": 59,
   "metadata": {},
   "outputs": [],
   "source": [
    "#Creamos una lista de los comentarios positivos y la limpiamos\n",
    "NEGA = []\n",
    "for i in archivoNEGA:\n",
    "    g = str(i)\n",
    "    h = g.replace(\";\",\"\")\n",
    "    i = h.replace(\"\\n\",\"\")\n",
    "    j = i.strip(' ')\n",
    "    k = j.replace(\"  \", \" \")\n",
    "    l = k.lower()\n",
    "    NEGA.append(l)"
   ]
  },
  {
   "cell_type": "code",
   "execution_count": 60,
   "metadata": {},
   "outputs": [
    {
     "name": "stderr",
     "output_type": "stream",
     "text": [
      "/home/usuariolab/anaconda3/lib/python3.6/site-packages/ipykernel_launcher.py:9: DeprecationWarning: Call to deprecated `__getitem__` (Method will be removed in 4.0.0, use self.wv.__getitem__() instead).\n",
      "  if __name__ == '__main__':\n"
     ]
    }
   ],
   "source": [
    "#Usando getFV appendamos los vectores caracteristicos en una lista P de negativos\n",
    "N=[]\n",
    "for w in NEGA:\n",
    "    a=getFV(w)\n",
    "    N.append(a)"
   ]
  },
  {
   "cell_type": "code",
   "execution_count": 61,
   "metadata": {},
   "outputs": [],
   "source": [
    "#Limpiamos la lista n y convertimos los NaN en Ceros\n",
    "n_ = np.where(np.isnan(N), 0, N)"
   ]
  },
  {
   "cell_type": "code",
   "execution_count": 62,
   "metadata": {},
   "outputs": [],
   "source": [
    "#Hallamos el Accuracy de los negativos usando el algoritmo KMeans\n",
    "estn = KMeans(2)\n",
    "estn.fit (n_)\n",
    "y_meann=estn.predict(n_)"
   ]
  },
  {
   "cell_type": "code",
   "execution_count": 63,
   "metadata": {},
   "outputs": [
    {
     "data": {
      "text/plain": [
       "array([1, 1, 1, 1, 1, 0, 0, 0, 1, 1, 1, 1, 1, 1, 1, 1, 1, 1, 0, 0, 1, 1,\n",
       "       0, 0, 1, 1, 0, 1, 1, 1, 1, 1, 1, 1, 1, 1, 1, 1, 1, 1, 1, 1, 1, 1,\n",
       "       1, 1, 0, 1, 1, 1], dtype=int32)"
      ]
     },
     "execution_count": 63,
     "metadata": {},
     "output_type": "execute_result"
    }
   ],
   "source": [
    "y_meann #NEGATIVOS K MEANS"
   ]
  },
  {
   "cell_type": "code",
   "execution_count": 64,
   "metadata": {},
   "outputs": [
    {
     "name": "stdout",
     "output_type": "stream",
     "text": [
      "0.82\n"
     ]
    }
   ],
   "source": [
    "#Usando getFV appendamos los vectores caracteristicos en una lista P de negativos\n",
    "unk=0\n",
    "for i in y_meann:\n",
    "    if i == 1:\n",
    "        unk=unk+1\n",
    "print (unk/(len(y_meann)))"
   ]
  },
  {
   "cell_type": "code",
   "execution_count": 65,
   "metadata": {},
   "outputs": [],
   "source": [
    "#Abrimos el csv etiquetado\n",
    "archivoSVM = open('label-comments_1400.csv','r').readlines()"
   ]
  },
  {
   "cell_type": "code",
   "execution_count": 66,
   "metadata": {},
   "outputs": [],
   "source": [
    "#Importamos la libreria pandas. Creamos el dataframe\n",
    "import pandas as pd\n",
    "df = pd.read_csv('label-comments_1400.csv', delimiter = ';', header=None)"
   ]
  },
  {
   "cell_type": "code",
   "execution_count": 67,
   "metadata": {},
   "outputs": [],
   "source": [
    "#Creamos data frame con solo las columnas necesarias solo para ser ordenados\n",
    "df2 = df.drop(columns=[2,3,4,5])"
   ]
  },
  {
   "cell_type": "code",
   "execution_count": 68,
   "metadata": {},
   "outputs": [],
   "source": [
    "etiquetas = df2[0]#data frame de solo las etiquetas\n",
    "comments = df2[1]#data frame de solo los comentarios"
   ]
  },
  {
   "cell_type": "code",
   "execution_count": 69,
   "metadata": {},
   "outputs": [],
   "source": [
    "#Creamos la lista para limpiarla\n",
    "c_c = []\n",
    "for i in comments:\n",
    "    g = str(i)\n",
    "    h = g.replace(\";\",\"\")\n",
    "    i = h.replace(\"\\n\",\"\")\n",
    "    j = i.strip(' ')\n",
    "    k = j.replace(\"  \", \" \")\n",
    "    l = k.lower()\n",
    "    c_c.append(l)"
   ]
  },
  {
   "cell_type": "code",
   "execution_count": 70,
   "metadata": {},
   "outputs": [
    {
     "name": "stderr",
     "output_type": "stream",
     "text": [
      "/home/usuariolab/anaconda3/lib/python3.6/site-packages/ipykernel_launcher.py:9: DeprecationWarning: Call to deprecated `__getitem__` (Method will be removed in 4.0.0, use self.wv.__getitem__() instead).\n",
      "  if __name__ == '__main__':\n",
      "/home/usuariolab/anaconda3/lib/python3.6/site-packages/ipykernel_launcher.py:12: RuntimeWarning: invalid value encountered in true_divide\n",
      "  if sys.path[0] == '':\n"
     ]
    }
   ],
   "source": [
    "#Creamos la lista que contendra los vectores caracteristicos de todos los comentarios\n",
    "co_v=[]\n",
    "for w in c_c:\n",
    "    a=getFV(w)\n",
    "    co_v.append(a)"
   ]
  },
  {
   "cell_type": "code",
   "execution_count": 71,
   "metadata": {},
   "outputs": [],
   "source": [
    "#Limpiamos la lista de los NaN y lo convertimos en ceros\n",
    "d=np.where(np.isnan(co_v), 0, co_v)"
   ]
  },
  {
   "cell_type": "code",
   "execution_count": 72,
   "metadata": {},
   "outputs": [],
   "source": [
    "#Algoritmo de Support Vector Machine\n",
    "from sklearn import svm\n",
    "clasificador = svm.SVC(gamma=0.00001,C=10)"
   ]
  },
  {
   "cell_type": "code",
   "execution_count": 73,
   "metadata": {},
   "outputs": [
    {
     "data": {
      "text/plain": [
       "SVC(C=10, cache_size=200, class_weight=None, coef0=0.0,\n",
       "  decision_function_shape='ovr', degree=3, gamma=1e-05, kernel='rbf',\n",
       "  max_iter=-1, probability=False, random_state=None, shrinking=True,\n",
       "  tol=0.001, verbose=False)"
      ]
     },
     "execution_count": 73,
     "metadata": {},
     "output_type": "execute_result"
    }
   ],
   "source": [
    "#Ejecutamos el clasificador SVM donde d es la lista de FV de los comentarios y etiquetas, las etiquetas\n",
    "clasificador.fit(d,etiquetas)"
   ]
  },
  {
   "cell_type": "code",
   "execution_count": 74,
   "metadata": {},
   "outputs": [],
   "source": [
    "Y_predNEGAS = clasificador.predict(n_) #NEGATIVOS SVM"
   ]
  },
  {
   "cell_type": "code",
   "execution_count": 75,
   "metadata": {},
   "outputs": [
    {
     "data": {
      "text/plain": [
       "array([1, 1, 1, 1, 1, 0, 1, 0, 1, 1, 1, 0, 1, 1, 1, 1, 1, 0, 1, 0, 1, 1,\n",
       "       0, 0, 1, 1, 1, 1, 1, 1, 0, 1, 1, 1, 1, 1, 1, 1, 1, 1, 1, 1, 1, 0,\n",
       "       1, 1, 0, 1, 1, 1])"
      ]
     },
     "execution_count": 75,
     "metadata": {},
     "output_type": "execute_result"
    }
   ],
   "source": [
    "Y_predNEGAS #Imprimimos el array de negativos con SVM"
   ]
  },
  {
   "cell_type": "code",
   "execution_count": 76,
   "metadata": {},
   "outputs": [
    {
     "name": "stdout",
     "output_type": "stream",
     "text": [
      "0.8\n"
     ]
    }
   ],
   "source": [
    "#Hallamos el Accuracy de los negativos con SVM\n",
    "un=0\n",
    "for i in Y_predNEGAS:\n",
    "    if i == 1:\n",
    "        un=un+1\n",
    "print (un/(len(Y_predNEGAS)))"
   ]
  },
  {
   "cell_type": "code",
   "execution_count": 77,
   "metadata": {},
   "outputs": [],
   "source": [
    "Y_predPOSI = clasificador.predict(p_) #POSITIVOS SVM"
   ]
  },
  {
   "cell_type": "code",
   "execution_count": 78,
   "metadata": {},
   "outputs": [
    {
     "data": {
      "text/plain": [
       "array([1, 1, 1, 1, 1, 1, 1, 1, 1, 1, 1, 1, 1, 1, 1, 1, 1, 1, 1, 1, 1, 1,\n",
       "       1, 1, 1, 0, 1, 1, 1, 1, 1, 1, 1, 1, 1, 1, 1, 1, 1, 1, 1, 1, 1, 1,\n",
       "       1, 1, 1, 1, 1])"
      ]
     },
     "execution_count": 78,
     "metadata": {},
     "output_type": "execute_result"
    }
   ],
   "source": [
    "Y_predPOSI #Imprimimos el array de Positivos con SVM"
   ]
  },
  {
   "cell_type": "code",
   "execution_count": 80,
   "metadata": {},
   "outputs": [
    {
     "name": "stdout",
     "output_type": "stream",
     "text": [
      "0.9795918367346939\n"
     ]
    }
   ],
   "source": [
    "#Hallamos el Accuracy de los negativos con SVM\n",
    "up=0\n",
    "for i in Y_predPOSI:\n",
    "    if i == 1:\n",
    "        up=up+1\n",
    "print (up/(len(Y_predPOSI)))"
   ]
  },
  {
   "cell_type": "code",
   "execution_count": null,
   "metadata": {},
   "outputs": [],
   "source": []
  }
 ],
 "metadata": {
  "kernelspec": {
   "display_name": "Python 3",
   "language": "python",
   "name": "python3"
  },
  "language_info": {
   "codemirror_mode": {
    "name": "ipython",
    "version": 3
   },
   "file_extension": ".py",
   "mimetype": "text/x-python",
   "name": "python",
   "nbconvert_exporter": "python",
   "pygments_lexer": "ipython3",
   "version": "3.6.5"
  }
 },
 "nbformat": 4,
 "nbformat_minor": 2
}
